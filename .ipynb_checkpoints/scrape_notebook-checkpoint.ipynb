{
 "cells": [
  {
   "cell_type": "code",
   "execution_count": 2,
   "metadata": {},
   "outputs": [],
   "source": [
    "# Dependencies\n",
    "from bs4 import BeautifulSoup\n",
    "import requests, os\n",
    "import pandas as pd\n",
    "from pymongo import MongoClient"
   ]
  },
  {
   "cell_type": "code",
   "execution_count": 3,
   "metadata": {},
   "outputs": [],
   "source": [
    "# connect to Mongo just in case, for later\n",
    "\n",
    "client = MongoClient('mongodb+srv://mongo:<password>@ngranback.bmasa.mongodb.net/myFirstDatabase?retryWrites=true&w=majority')\n",
    "ETL_db = client['ETL_db']\n",
    "nella_ETL_collection = ETL_db['nella_ETL']"
   ]
  },
  {
   "cell_type": "markdown",
   "metadata": {},
   "source": [
    "SCRAPING EPISODE RATING INFO FROM IMDB"
   ]
  },
  {
   "cell_type": "code",
   "execution_count": 18,
   "metadata": {
    "scrolled": true
   },
   "outputs": [
    {
     "name": "stdout",
     "output_type": "stream",
     "text": [
      "Starting to scrape season 1\n",
      "Starting to scrape season 2\n",
      "Starting to scrape season 3\n",
      "Starting to scrape season 4\n",
      "Starting to scrape season 5\n",
      "Starting to scrape season 6\n",
      "Starting to scrape season 7\n",
      "Starting to scrape season 8\n",
      "Starting to scrape season 9\n"
     ]
    }
   ],
   "source": [
    "# The goal is to create an episodic ratings table to fill in  \n",
    "# episode ID: string (ex. S01E01)\n",
    "# season: integer\n",
    "# episode: integer\n",
    "# rating: float\n",
    "# title: string\n",
    "\n",
    "# Initialize lists to hold scraped data, outside of loop \n",
    "ratinglist, titlelist, IDlist = [],[],[]\n",
    "# Don't need these: seasonlist, episodelist\n",
    "\n",
    "#List of seasons to loop through\n",
    "seasons = [x+1 for x in range(9)]\n",
    "\n",
    "\n",
    "# Loop through each of the seasons\n",
    "for season in seasons:\n",
    "    \n",
    "    # loop status\n",
    "    print(f'Starting to scrape season {season}')\n",
    "    \n",
    "    url = 'https://www.imdb.com/title/tt0098904/episodes?season='+str(season)    \n",
    "    \n",
    "    # Retrieve page and create iterable list of all episode info elements in that season\n",
    "    response = requests.get(url)\n",
    "    soup = BeautifulSoup(response.text, 'html.parser')\n",
    "    results = soup.find_all('div', class_=\"info\", itemprop=\"episodes\")\n",
    "\n",
    "    # Loop through results from current season\n",
    "    for result in results:\n",
    "        \n",
    "        try:\n",
    "            #Season is already identified in for loop\n",
    "            #seasonlist.append(season)\n",
    "            \n",
    "            #Identify episode as integer\n",
    "            episode = int(result.find('meta', itemprop='episodeNumber')['content'])\n",
    "            #episodelist.append(episode)\n",
    "            \n",
    "            #Identify rating as float\n",
    "            rating = float(result.find('span', class_='ipl-rating-star__rating').text)\n",
    "            ratinglist.append(rating)\n",
    "            \n",
    "            # Identify episode title as string\n",
    "            title = result.find('a', itemprop='name').text\n",
    "            titlelist.append(title)\n",
    "\n",
    "            #Create episode ID\n",
    "            IDseason = \"{0:0=2d}\".format(season)\n",
    "            IDepisode = \"{0:0=2d}\".format(episode)\n",
    "            ID = 'S'+IDseason+'E'+IDepisode\n",
    "            IDlist.append(ID)         \n",
    "            \n",
    "        except AttributeError as e:\n",
    "            print(e)\n"
   ]
  },
  {
   "cell_type": "code",
   "execution_count": 19,
   "metadata": {
    "scrolled": true
   },
   "outputs": [
    {
     "name": "stdout",
     "output_type": "stream",
     "text": [
      "(173, 3)\n"
     ]
    },
    {
     "data": {
      "text/html": [
       "<div>\n",
       "<style scoped>\n",
       "    .dataframe tbody tr th:only-of-type {\n",
       "        vertical-align: middle;\n",
       "    }\n",
       "\n",
       "    .dataframe tbody tr th {\n",
       "        vertical-align: top;\n",
       "    }\n",
       "\n",
       "    .dataframe thead th {\n",
       "        text-align: right;\n",
       "    }\n",
       "</style>\n",
       "<table border=\"1\" class=\"dataframe\">\n",
       "  <thead>\n",
       "    <tr style=\"text-align: right;\">\n",
       "      <th></th>\n",
       "      <th>SEID</th>\n",
       "      <th>Rating</th>\n",
       "      <th>Title</th>\n",
       "    </tr>\n",
       "  </thead>\n",
       "  <tbody>\n",
       "    <tr>\n",
       "      <th>0</th>\n",
       "      <td>S01E01</td>\n",
       "      <td>7.6</td>\n",
       "      <td>Good News, Bad News</td>\n",
       "    </tr>\n",
       "    <tr>\n",
       "      <th>1</th>\n",
       "      <td>S01E02</td>\n",
       "      <td>7.6</td>\n",
       "      <td>The Stakeout</td>\n",
       "    </tr>\n",
       "    <tr>\n",
       "      <th>2</th>\n",
       "      <td>S01E03</td>\n",
       "      <td>7.6</td>\n",
       "      <td>The Robbery</td>\n",
       "    </tr>\n",
       "    <tr>\n",
       "      <th>3</th>\n",
       "      <td>S01E04</td>\n",
       "      <td>7.3</td>\n",
       "      <td>Male Unbonding</td>\n",
       "    </tr>\n",
       "    <tr>\n",
       "      <th>4</th>\n",
       "      <td>S01E05</td>\n",
       "      <td>7.5</td>\n",
       "      <td>The Stock Tip</td>\n",
       "    </tr>\n",
       "  </tbody>\n",
       "</table>\n",
       "</div>"
      ],
      "text/plain": [
       "     SEID  Rating                Title\n",
       "0  S01E01     7.6  Good News, Bad News\n",
       "1  S01E02     7.6         The Stakeout\n",
       "2  S01E03     7.6          The Robbery\n",
       "3  S01E04     7.3       Male Unbonding\n",
       "4  S01E05     7.5        The Stock Tip"
      ]
     },
     "execution_count": 19,
     "metadata": {},
     "output_type": "execute_result"
    }
   ],
   "source": [
    "# Assemble lists into final ratings dataframe\n",
    "ratings_df = pd.DataFrame({\n",
    "    'SEID': IDlist,\n",
    "    #'Season': seasonlist,\n",
    "    #'Episode': episodelist,\n",
    "    'Rating': ratinglist,\n",
    "    'Title': titlelist\n",
    "})\n",
    "\n",
    "print(ratings_df.shape)\n",
    "ratings_df.head(5)"
   ]
  },
  {
   "cell_type": "markdown",
   "metadata": {},
   "source": [
    "IMPORTING EPISODE DATA AND SCRIPT CSVs"
   ]
  },
  {
   "cell_type": "code",
   "execution_count": 28,
   "metadata": {},
   "outputs": [
    {
     "name": "stdout",
     "output_type": "stream",
     "text": [
      "(174, 4)\n"
     ]
    },
    {
     "data": {
      "text/html": [
       "<div>\n",
       "<style scoped>\n",
       "    .dataframe tbody tr th:only-of-type {\n",
       "        vertical-align: middle;\n",
       "    }\n",
       "\n",
       "    .dataframe tbody tr th {\n",
       "        vertical-align: top;\n",
       "    }\n",
       "\n",
       "    .dataframe thead th {\n",
       "        text-align: right;\n",
       "    }\n",
       "</style>\n",
       "<table border=\"1\" class=\"dataframe\">\n",
       "  <thead>\n",
       "    <tr style=\"text-align: right;\">\n",
       "      <th></th>\n",
       "      <th>Title</th>\n",
       "      <th>AirDate</th>\n",
       "      <th>Writers</th>\n",
       "      <th>Director</th>\n",
       "    </tr>\n",
       "  </thead>\n",
       "  <tbody>\n",
       "    <tr>\n",
       "      <th>0</th>\n",
       "      <td>Good News, Bad News</td>\n",
       "      <td>July 5, 1989</td>\n",
       "      <td>Larry David, Jerry Seinfeld</td>\n",
       "      <td>Art Wolff</td>\n",
       "    </tr>\n",
       "    <tr>\n",
       "      <th>1</th>\n",
       "      <td>The Stakeout</td>\n",
       "      <td>May 31, 1990</td>\n",
       "      <td>Larry David, Jerry Seinfeld</td>\n",
       "      <td>Tom Cherones</td>\n",
       "    </tr>\n",
       "    <tr>\n",
       "      <th>2</th>\n",
       "      <td>The Robbery</td>\n",
       "      <td>June 7, 1990</td>\n",
       "      <td>Matt Goldman</td>\n",
       "      <td>Tom Cherones</td>\n",
       "    </tr>\n",
       "    <tr>\n",
       "      <th>3</th>\n",
       "      <td>Male Unbonding</td>\n",
       "      <td>June 14, 1990</td>\n",
       "      <td>Larry David, Jerry Seinfeld</td>\n",
       "      <td>Tom Cherones</td>\n",
       "    </tr>\n",
       "    <tr>\n",
       "      <th>4</th>\n",
       "      <td>The Stock Tip</td>\n",
       "      <td>June 21, 1990</td>\n",
       "      <td>Larry David, Jerry Seinfeld</td>\n",
       "      <td>Tom Cherones</td>\n",
       "    </tr>\n",
       "  </tbody>\n",
       "</table>\n",
       "</div>"
      ],
      "text/plain": [
       "                 Title        AirDate                      Writers  \\\n",
       "0  Good News, Bad News   July 5, 1989  Larry David, Jerry Seinfeld   \n",
       "1         The Stakeout   May 31, 1990  Larry David, Jerry Seinfeld   \n",
       "2          The Robbery   June 7, 1990                 Matt Goldman   \n",
       "3       Male Unbonding  June 14, 1990  Larry David, Jerry Seinfeld   \n",
       "4        The Stock Tip  June 21, 1990  Larry David, Jerry Seinfeld   \n",
       "\n",
       "       Director  \n",
       "0     Art Wolff  \n",
       "1  Tom Cherones  \n",
       "2  Tom Cherones  \n",
       "3  Tom Cherones  \n",
       "4  Tom Cherones  "
      ]
     },
     "execution_count": 28,
     "metadata": {},
     "output_type": "execute_result"
    }
   ],
   "source": [
    "info_df = pd.read_csv(r'C:\\Users\\nella\\BOOTCAMP\\HOMEWORK\\ETL-mini-project\\Seinfeld\\episode_info.csv')\n",
    "\n",
    "# Drop Season and Episode since they are covered in other tables, and unnamed column\n",
    "info_df.drop('Season', axis=1, inplace=True)\n",
    "info_df.drop('EpisodeNo', axis=1, inplace=True)\n",
    "info_df.drop('SEID', axis=1, inplace=True) # this column is INACCURATE in the csv!!!\n",
    "info_df.drop('Unnamed: 0', axis=1, inplace=True)\n",
    "\n",
    "print(info_df.shape)\n",
    "info_df.head()"
   ]
  },
  {
   "cell_type": "code",
   "execution_count": 40,
   "metadata": {},
   "outputs": [
    {
     "name": "stdout",
     "output_type": "stream",
     "text": [
      "(158, 6)\n"
     ]
    },
    {
     "data": {
      "text/html": [
       "<div>\n",
       "<style scoped>\n",
       "    .dataframe tbody tr th:only-of-type {\n",
       "        vertical-align: middle;\n",
       "    }\n",
       "\n",
       "    .dataframe tbody tr th {\n",
       "        vertical-align: top;\n",
       "    }\n",
       "\n",
       "    .dataframe thead th {\n",
       "        text-align: right;\n",
       "    }\n",
       "</style>\n",
       "<table border=\"1\" class=\"dataframe\">\n",
       "  <thead>\n",
       "    <tr style=\"text-align: right;\">\n",
       "      <th></th>\n",
       "      <th>Title</th>\n",
       "      <th>AirDate</th>\n",
       "      <th>Writers</th>\n",
       "      <th>Director</th>\n",
       "      <th>SEID</th>\n",
       "      <th>Rating</th>\n",
       "    </tr>\n",
       "  </thead>\n",
       "  <tbody>\n",
       "    <tr>\n",
       "      <th>0</th>\n",
       "      <td>Good News, Bad News</td>\n",
       "      <td>July 5, 1989</td>\n",
       "      <td>Larry David, Jerry Seinfeld</td>\n",
       "      <td>Art Wolff</td>\n",
       "      <td>S01E01</td>\n",
       "      <td>7.6</td>\n",
       "    </tr>\n",
       "    <tr>\n",
       "      <th>1</th>\n",
       "      <td>The Stakeout</td>\n",
       "      <td>May 31, 1990</td>\n",
       "      <td>Larry David, Jerry Seinfeld</td>\n",
       "      <td>Tom Cherones</td>\n",
       "      <td>S01E02</td>\n",
       "      <td>7.6</td>\n",
       "    </tr>\n",
       "    <tr>\n",
       "      <th>2</th>\n",
       "      <td>The Robbery</td>\n",
       "      <td>June 7, 1990</td>\n",
       "      <td>Matt Goldman</td>\n",
       "      <td>Tom Cherones</td>\n",
       "      <td>S01E03</td>\n",
       "      <td>7.6</td>\n",
       "    </tr>\n",
       "    <tr>\n",
       "      <th>3</th>\n",
       "      <td>Male Unbonding</td>\n",
       "      <td>June 14, 1990</td>\n",
       "      <td>Larry David, Jerry Seinfeld</td>\n",
       "      <td>Tom Cherones</td>\n",
       "      <td>S01E04</td>\n",
       "      <td>7.3</td>\n",
       "    </tr>\n",
       "    <tr>\n",
       "      <th>4</th>\n",
       "      <td>The Stock Tip</td>\n",
       "      <td>June 21, 1990</td>\n",
       "      <td>Larry David, Jerry Seinfeld</td>\n",
       "      <td>Tom Cherones</td>\n",
       "      <td>S01E05</td>\n",
       "      <td>7.5</td>\n",
       "    </tr>\n",
       "  </tbody>\n",
       "</table>\n",
       "</div>"
      ],
      "text/plain": [
       "                 Title        AirDate                      Writers  \\\n",
       "0  Good News, Bad News   July 5, 1989  Larry David, Jerry Seinfeld   \n",
       "1         The Stakeout   May 31, 1990  Larry David, Jerry Seinfeld   \n",
       "2          The Robbery   June 7, 1990                 Matt Goldman   \n",
       "3       Male Unbonding  June 14, 1990  Larry David, Jerry Seinfeld   \n",
       "4        The Stock Tip  June 21, 1990  Larry David, Jerry Seinfeld   \n",
       "\n",
       "       Director    SEID  Rating  \n",
       "0     Art Wolff  S01E01     7.6  \n",
       "1  Tom Cherones  S01E02     7.6  \n",
       "2  Tom Cherones  S01E03     7.6  \n",
       "3  Tom Cherones  S01E04     7.3  \n",
       "4  Tom Cherones  S01E05     7.5  "
      ]
     },
     "execution_count": 40,
     "metadata": {},
     "output_type": "execute_result"
    }
   ],
   "source": [
    "# Join ratings table to episode info table, on the title\n",
    "info_with_ratings = info_df.merge(ratings_df, how='inner', on='Title')\n",
    "\n",
    "print(info_with_ratings.shape) # Lost 16 episodes due to incomplete data\n",
    "info_with_ratings.head()"
   ]
  },
  {
   "cell_type": "code",
   "execution_count": 33,
   "metadata": {},
   "outputs": [
    {
     "data": {
      "text/plain": [
       "173"
      ]
     },
     "execution_count": 33,
     "metadata": {},
     "output_type": "execute_result"
    }
   ],
   "source": [
    "script_df = pd.read_csv(r'C:\\Users\\nella\\BOOTCAMP\\HOMEWORK\\ETL-mini-project\\Seinfeld\\scripts.csv')\n",
    "\n",
    "# Convert Season and Episode to integers\n",
    "script_df.EpisodeNo = script_df.EpisodeNo.astype('int64')\n",
    "script_df.Season = script_df.Season.astype('int64')\n",
    "# Drop extra index column\n",
    "script_df.drop('Unnamed: 0', axis=1, inplace=True)\n"
   ]
  },
  {
   "cell_type": "code",
   "execution_count": 41,
   "metadata": {
    "scrolled": true
   },
   "outputs": [
    {
     "name": "stdout",
     "output_type": "stream",
     "text": [
      "154\n"
     ]
    }
   ],
   "source": [
    "# Join all episode information to the script df\n",
    "full_df = script_df.merge(info_with_ratings, how='inner', on='SEID')\n",
    "\n",
    "print(len(full_df['SEID'].unique())) # Lost 4 more episodes (20 total) due to incomplete data"
   ]
  },
  {
   "cell_type": "code",
   "execution_count": 65,
   "metadata": {},
   "outputs": [
    {
     "data": {
      "text/plain": [
       "31     S03E16\n",
       "32     S03E17\n",
       "33     S03E18\n",
       "39     S04E01\n",
       "40     S04E02\n",
       "43     S04E05\n",
       "44     S04E06\n",
       "61     S04E23\n",
       "62     S04E24\n",
       "83     S05E22\n",
       "91     S06E08\n",
       "105    S06E24\n",
       "119    S07E14\n",
       "122    S07E17\n",
       "125    S07E20\n",
       "128    S07E23\n",
       "129    S07E24\n",
       "163    S09E12\n",
       "172    S09E23\n",
       "Name: SEID, dtype: object"
      ]
     },
     "execution_count": 65,
     "metadata": {},
     "output_type": "execute_result"
    }
   ],
   "source": [
    "info_with_ratings['joincol'] = 1\n",
    "scriptSEID = pd.DataFrame({'SEID': script_df['SEID'].unique()})\n",
    "\n",
    "\n",
    "left = pd.merge(left=info_with_ratings,right=scriptSEID, on='SEID', how='left')\n",
    "right = pd.merge(left=info_with_ratings,right=scriptSEID, on='SEID', how='right')\n",
    "right.head(50)\n",
    "no_ratings = right[right['Title'].isna()]\n",
    "no_ratings['SEID']"
   ]
  },
  {
   "cell_type": "code",
   "execution_count": null,
   "metadata": {},
   "outputs": [],
   "source": []
  }
 ],
 "metadata": {
  "kernelspec": {
   "display_name": "Python 3",
   "language": "python",
   "name": "python3"
  },
  "language_info": {
   "codemirror_mode": {
    "name": "ipython",
    "version": 3
   },
   "file_extension": ".py",
   "mimetype": "text/x-python",
   "name": "python",
   "nbconvert_exporter": "python",
   "pygments_lexer": "ipython3",
   "version": "3.8.5"
  },
  "varInspector": {
   "cols": {
    "lenName": 16,
    "lenType": 16,
    "lenVar": 40
   },
   "kernels_config": {
    "python": {
     "delete_cmd_postfix": "",
     "delete_cmd_prefix": "del ",
     "library": "var_list.py",
     "varRefreshCmd": "print(var_dic_list())"
    },
    "r": {
     "delete_cmd_postfix": ") ",
     "delete_cmd_prefix": "rm(",
     "library": "var_list.r",
     "varRefreshCmd": "cat(var_dic_list()) "
    }
   },
   "types_to_exclude": [
    "module",
    "function",
    "builtin_function_or_method",
    "instance",
    "_Feature"
   ],
   "window_display": false
  }
 },
 "nbformat": 4,
 "nbformat_minor": 4
}
